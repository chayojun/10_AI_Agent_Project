{
 "cells": [
  {
   "cell_type": "code",
   "execution_count": 2,
   "id": "24c84599",
   "metadata": {},
   "outputs": [],
   "source": [
    "import sys\n",
    "\n",
    "sys.path.append(\"c:/project_oct\")"
   ]
  },
  {
   "cell_type": "code",
   "execution_count": 3,
   "id": "3a8e4a00",
   "metadata": {},
   "outputs": [
    {
     "data": {
      "text/plain": [
       "True"
      ]
     },
     "execution_count": 3,
     "metadata": {},
     "output_type": "execute_result"
    }
   ],
   "source": [
    "from dotenv import load_dotenv\n",
    "\n",
    "load_dotenv()"
   ]
  },
  {
   "cell_type": "code",
   "execution_count": 5,
   "id": "fa93eb70",
   "metadata": {},
   "outputs": [
    {
     "name": "stdout",
     "output_type": "stream",
     "text": [
      "[테스트] AnalystAgent 실행 시작\n",
      "\n",
      "[10:15:07] [AnalystAgent] 실행 시작\n",
      "[10:15:07] [Validator] 기본 정책 검증 시작\n",
      "[10:15:07] [Tool] 나이 검증 실행: 27세 → 기준 19~39 → True\n",
      "[10:15:07] [Tool] 지역 검증 실행: 서울시 동작구 → True\n",
      "[10:15:07] [Tool] 소득 검증 실행: 140% / 기준 150% → True\n",
      "[10:15:07] [Tool] 무주택 검증 실행: False → True\n",
      "[10:15:07] [Validator] 결과 → eligible=True, 실패 항목=[]\n",
      "[10:15:07] [LLMReasoner] 우대 조건·서류 reasoning 시작\n",
      "[10:15:08] [LLMReasoner] Reasoning 요청 중...\n",
      "[10:15:11] [LLMReasoner] Reasoning 완료 및 결과 파싱 성공\n",
      "[10:15:11] [AnalystAgent] 검증 완료 - JSON 결과 반환\n",
      "\n",
      "=== 최종 AnalystAgent 결과 ===\n",
      "AnalystResult(eligible=True, matched_priority=[], required_documents=['임대차계약서', '월세 이체확인증(최근 3개월분)', '가족관계증명서(공고일 이후 발급분)'], optional_documents=['월세 납부확인서(이체내역 불가 시)'], summary='최윤재는 정책 자격을 충족합니다.')\n"
     ]
    }
   ],
   "source": [
    "from agents.analyst_agent.agent_tool import AnalystAgentTool\n",
    "from pprint import pprint\n",
    "\n",
    "\n",
    "def main():\n",
    "    # ----------------------------\n",
    "    # 정책 정보 (SuggestAgent 결과)\n",
    "    # ----------------------------\n",
    "    policy_info = {\n",
    "        \"policy_title\": \"2025년 서울시 청년월세지원 사업\",\n",
    "        \"policy_type\": \"청년월세지원\",\n",
    "        \"eligibility\": \"서울시 내 거주 19~39세 이하 청년, 중위소득 150% 이하\",\n",
    "        \"required_documents\": [\n",
    "            \"임대차계약서\",\n",
    "            \"월세 이체확인증(최근 3개월분)\",\n",
    "            \"가족관계증명서(공고일 이후 발급분)\",\n",
    "        ],\n",
    "        \"optional_documents\": [\"월세 납부확인서(이체내역 불가 시)\"],\n",
    "        \"priority_subjects\": [\n",
    "            \"서울 관악구 거주자 우대\",\n",
    "            \"기초생활수급자 우대 (추가 증빙 필요: 수급자 증명서)\",\n",
    "        ],\n",
    "    }\n",
    "\n",
    "    # ----------------------------\n",
    "    # 사용자 정보 (인증서 기반)\n",
    "    # ----------------------------\n",
    "    user_info = {\n",
    "        \"name\": \"최윤재\",\n",
    "        \"age\": 27,\n",
    "        \"region\": \"서울시 동작구\",\n",
    "        \"income_ratio\": 140,\n",
    "        \"house_owned\": False,\n",
    "        \"is_basic_livelihood_recipient\": False,\n",
    "        \"deposit\": 40000000,\n",
    "        \"monthly_rent\": 500000,\n",
    "    }\n",
    "\n",
    "    # ----------------------------\n",
    "    # AnalystAgent 실행\n",
    "    # ----------------------------\n",
    "    agent = AnalystAgentTool()\n",
    "\n",
    "    print(\"[테스트] AnalystAgent 실행 시작\\n\")\n",
    "\n",
    "    try:\n",
    "        # LangChain BaseTool은 run() / invoke()가 안전함\n",
    "        result = agent.run({\"policy_info\": policy_info, \"user_info\": user_info})\n",
    "        # result = agent.invoke({\"policy_info\": policy_info, \"user_info\": user_info})  # 동일 효과\n",
    "\n",
    "        print(\"\\n=== 최종 AnalystAgent 결과 ===\")\n",
    "        pprint(result)\n",
    "\n",
    "    except Exception as e:\n",
    "        print(f\"\\n 실행 중 오류 발생: {e}\")\n",
    "\n",
    "\n",
    "if __name__ == \"__main__\":\n",
    "    main()"
   ]
  },
  {
   "cell_type": "code",
   "execution_count": null,
   "id": "062a2670",
   "metadata": {},
   "outputs": [],
   "source": []
  }
 ],
 "metadata": {
  "kernelspec": {
   "display_name": "project_oct",
   "language": "python",
   "name": "python3"
  },
  "language_info": {
   "codemirror_mode": {
    "name": "ipython",
    "version": 3
   },
   "file_extension": ".py",
   "mimetype": "text/x-python",
   "name": "python",
   "nbconvert_exporter": "python",
   "pygments_lexer": "ipython3",
   "version": "3.11.13"
  }
 },
 "nbformat": 4,
 "nbformat_minor": 5
}
