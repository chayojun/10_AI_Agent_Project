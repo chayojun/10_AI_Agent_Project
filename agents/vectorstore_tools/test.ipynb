{
 "cells": [
  {
   "cell_type": "code",
   "execution_count": 11,
   "id": "582f2f9c",
   "metadata": {},
   "outputs": [],
   "source": [
    "from langchain_community.document_loaders import PyPDFLoader\n",
    "from langchain_text_splitters import RecursiveCharacterTextSplitter\n",
    "from langchain_openai import OpenAIEmbeddings, ChatOpenAI\n",
    "from langchain_community.vectorstores import Chroma\n",
    "from langchain_core.runnables import RunnablePassthrough, RunnableLambda\n",
    "from langchain_core.prompts import ChatPromptTemplate\n",
    "from langchain_core.output_parsers import StrOutputParser\n",
    "from dotenv import load_dotenv\n",
    "import os\n",
    "import re\n",
    "\n",
    "class VectorStoreHeaderWriter:\n",
    "    def __init__(self, persist_directory: str):\n",
    "        load_dotenv()\n",
    "\n",
    "        self.persist_directory = persist_directory\n",
    "        self.embeddings = OpenAIEmbeddings(model=\"text-embedding-3-small\")\n",
    "\n",
    "        # self.vectorstore = Chroma(\n",
    "        #     persist_directory=self.persist_directory,\n",
    "        #     embedding_function=self.embeddings\n",
    "        # )\n",
    "\n",
    "        self.llm = ChatOpenAI(\n",
    "            model_name=\"gpt-4.1-mini\",\n",
    "            temperature=0\n",
    "        )\n",
    "\n",
    "    def load_pdf_docs(self, file_path: str):\n",
    "        loader = PyPDFLoader(file_path)\n",
    "        documents = loader.load()\n",
    "\n",
    "        return documents"
   ]
  },
  {
   "cell_type": "code",
   "execution_count": 13,
   "id": "f9d314fe",
   "metadata": {},
   "outputs": [],
   "source": [
    "vshw = VectorStoreHeaderWriter(persist_directory=\"./chroma_db\")\n",
    "\n",
    "sample = vshw.load_pdf_docs(\"../../source/original_docs/서울시 청년월세지원정책.pdf\")"
   ]
  },
  {
   "cell_type": "code",
   "execution_count": 15,
   "id": "f27682df",
   "metadata": {},
   "outputs": [
    {
     "data": {
      "text/plain": [
       "'- 1 -\\n서울특별시 공고 제 호2025-1771년 서울시 청년월세지원 모집 공고2025서울시에서는 서울특별시 청년주거 기본 조례 제 조 에 의거 청년의 주거비 “ 7 ”부담 완화를 위해 다음과 같이 년 서울시 청년월세지원 사업 참여자를 2025 ‘ ’ 모집하오니 많은 참여 바랍니다.년 월 일2025 6 4서 울 특 별 시 장사업 개요1. 사 업 명 년 서울시 청년월세지원 사업: 2025□ 지원대상 신청일 기준 : □ 서울시 월세 거주 세 세 , 19 ~39이하 청년 인 가구1서울시 청년월세지원 기수혜자 및 국토교통부 청년월세 한시 특별지원 수혜 중인 자 ,※ 년 자치구 자체 청년월세지원 사업 은평 광진 등 지원자로 선정된 사람은 지원 불가’25 ( , ) 지원내용□ ㅇ 지원금액 월 최대 : 만원 최대 개월 만원20 ( 12 /240 )\\n생애 회1※ 만원 미만 월세 계약은 임대차계약서에 표기된 월세 금액만 지원 천원 단위 절사 20 ( )※ 예시 차임 월세 원은 월 만원 지원) ( ) 108,000 10 / 관리비가 포함된 경우 관리비 제외하고 월세만 지급서울형 주택바우처 수급자인 경우 바우처 수령액을 제외한 차액 지급 , ※ 서울시 청년월세 지원 대상자 최종 선정 후 개월간 지급 12※'"
      ]
     },
     "execution_count": 15,
     "metadata": {},
     "output_type": "execute_result"
    }
   ],
   "source": [
    "sample[0].page_content = re.sub(r'\\n{3,}', '\\n\\n', sample[0].page_content)\n",
    "sample[0].page_content = re.sub(r'\\s{2,}', ' ', sample[0].page_content)\n",
    "\n",
    "sample[0].page_content"
   ]
  },
  {
   "cell_type": "code",
   "execution_count": 14,
   "id": "22852a5e",
   "metadata": {},
   "outputs": [
    {
     "data": {
      "text/plain": [
       "'- 1 -\\n서울특별시 공고 제 호2025-1771년 서울시 청년월세지원 모집 공고2025서울시에서는 서울특별시 청년주거 기본 조례 제 조 에 의거 청년의 주거비  “ 7 ”부담 완화를 위해 다음과 같이 년 서울시 청년월세지원 사업 참여자를 2025 ‘ ’ 모집하오니 많은 참여 바랍니다.년 월 일2025 6 4서 울 특 별 시 장사업 개요1. 사 업 명 년 서울시 청년월세지원 사업: 2025□ 지원대상 신청일 기준 : □ 서울시 월세 거주 세 세 , 19 ~39이하 청년 인 가구1서울시 청년월세지원 기수혜자 및 국토교통부 청년월세 한시 특별지원 수혜 중인 자   ,※ 년 자치구 자체 청년월세지원 사업 은평 광진 등 지원자로 선정된 사람은 지원 불가’25 ( , ) 지원내용□  ㅇ 지원금액 월 최대 : 만원 최대 개월 만원20 ( 12 /240 )\\n생애 회1※ 만원 미만 월세 계약은 임대차계약서에 표기된 월세 금액만 지원 천원 단위 절사   20 ( )※ 예시 차임 월세 원은 월 만원 지원) ( ) 108,000 10 / 관리비가 포함된 경우 관리비 제외하고 월세만 지급서울형 주택바우처 수급자인 경우 바우처 수령액을 제외한 차액 지급   , ※ 서울시 청년월세 지원 대상자 최종 선정 후 개월간 지급   12※'"
      ]
     },
     "execution_count": 14,
     "metadata": {},
     "output_type": "execute_result"
    }
   ],
   "source": [
    "sample[0].page_content"
   ]
  },
  {
   "cell_type": "code",
   "execution_count": null,
   "id": "30614c41",
   "metadata": {},
   "outputs": [],
   "source": []
  }
 ],
 "metadata": {
  "kernelspec": {
   "display_name": "project-oct",
   "language": "python",
   "name": "python3"
  },
  "language_info": {
   "codemirror_mode": {
    "name": "ipython",
    "version": 3
   },
   "file_extension": ".py",
   "mimetype": "text/x-python",
   "name": "python",
   "nbconvert_exporter": "python",
   "pygments_lexer": "ipython3",
   "version": "3.11.13"
  }
 },
 "nbformat": 4,
 "nbformat_minor": 5
}
