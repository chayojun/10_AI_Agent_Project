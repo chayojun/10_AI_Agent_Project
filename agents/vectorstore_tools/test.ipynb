{
 "cells": [
  {
   "cell_type": "code",
   "execution_count": 1,
   "id": "582f2f9c",
   "metadata": {},
   "outputs": [],
   "source": [
    "from langchain_community.document_loaders import PyPDFLoader\n",
    "from langchain_text_splitters import RecursiveCharacterTextSplitter\n",
    "from langchain_openai import OpenAIEmbeddings, ChatOpenAI\n",
    "from langchain_community.vectorstores import Chroma\n",
    "from langchain_core.runnables import RunnablePassthrough, RunnableLambda\n",
    "from langchain_core.prompts import ChatPromptTemplate\n",
    "from langchain_core.output_parsers import StrOutputParser\n",
    "\n",
    "class VectorStoreHeaderWriter:\n",
    "    def __init__(self, persist_directory: str):\n",
    "\n",
    "        self.persist_directory = persist_directory\n",
    "        self.embeddings = OpenAIEmbeddings(model=\"text-embedding-3-small\")\n",
    "\n",
    "        # self.vectorstore = Chroma(\n",
    "        #     persist_directory=self.persist_directory,\n",
    "        #     embedding_function=self.embeddings\n",
    "        # )\n",
    "\n",
    "        self.llm = ChatOpenAI(\n",
    "            model_name=\"gpt-4.1-mini\",\n",
    "            temperature=0\n",
    "        )\n",
    "\n",
    "    def load_pdf_docs(self, file_path: str):\n",
    "        loader = PyPDFLoader(file_path)\n",
    "        documents = loader.load()\n",
    "\n",
    "        return documents"
   ]
  },
  {
   "cell_type": "code",
   "execution_count": null,
   "id": "f9d314fe",
   "metadata": {},
   "outputs": [],
   "source": [
    "sample = load_pdf_docs(\"sample.pdf\")"
   ]
  }
 ],
 "metadata": {
  "kernelspec": {
   "display_name": "project-oct",
   "language": "python",
   "name": "python3"
  },
  "language_info": {
   "codemirror_mode": {
    "name": "ipython",
    "version": 3
   },
   "file_extension": ".py",
   "mimetype": "text/x-python",
   "name": "python",
   "nbconvert_exporter": "python",
   "pygments_lexer": "ipython3",
   "version": "3.11.13"
  }
 },
 "nbformat": 4,
 "nbformat_minor": 5
}
